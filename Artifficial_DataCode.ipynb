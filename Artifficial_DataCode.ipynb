{
 "cells": [
  {
   "cell_type": "code",
   "execution_count": 15,
   "metadata": {},
   "outputs": [],
   "source": [
    "import numpy as np\n",
    "def create_img (imgheight,imgwidth,color):\n",
    "    img = []\n",
    "    for i in range(imgheight):\n",
    "        row = []\n",
    "        for a in range(imgwidth):\n",
    "            pixel = []\n",
    "            for j in range(3):\n",
    "                pixel.append(color)\n",
    "            row.append(pixel)\n",
    "        img.append(row)\n",
    "    img_np = np.array(img, dtype=np.uint8)\n",
    "\n",
    "    return img_np"
   ]
  },
  {
   "cell_type": "code",
   "execution_count": 50,
   "metadata": {},
   "outputs": [
    {
     "name": "stderr",
     "output_type": "stream",
     "text": [
      "  0%|          | 10/2767 [00:07<34:50,  1.32it/s]\n"
     ]
    }
   ],
   "source": [
    "import os\n",
    "from tqdm import tqdm\n",
    "import cv2\n",
    "import numpy\n",
    "import matplotlib.pyplot as plt\n",
    "import random\n",
    "folder_path = r'C:\\Users\\zafer\\OneDrive\\Desktop\\RSNA'\n",
    "files = os.listdir(folder_path) \n",
    "counter = 0\n",
    "for file in tqdm(files):\n",
    "    full_path = os.path.join(folder_path,file)\n",
    "    img = cv2.imread(full_path)\n",
    "    resized = cv2.resize(img,(256,512))\n",
    "    black_img = create_img (imgheight = 600,imgwidth = 600,color= 0)\n",
    "    height, width,_= resized.shape\n",
    "    if counter<150:\n",
    "            black_img[0:height, 0:+width] = resized\n",
    "    else:\n",
    "        randomheight = random.randint(0,80)\n",
    "        randomwidth = random.randint(0,80)\n",
    "        black_img[randomheight:randomheight+height, randomwidth:randomwidth+width] = resized\n",
    "    black_img = cv2.flip(black_img, random.randint(0,1))\n",
    "    cv2.imshow('af',black_img)\n",
    "    # print(full_path)\n",
    "    cv2.imshow('ff',resized)\n",
    "    key = cv2.waitKey(50)\n",
    "    counter +=1\n",
    "    # cv2.imwrite(r'C:\\Users\\zafer\\OneDrive\\Desktop\\Resized'+'/'+str(counter)+'.jpg',black_img)\n",
    "    if key == ord('q') or counter ==500:\n",
    "        cv2.destroyAllWindows()\n",
    "        break"
   ]
  },
  {
   "cell_type": "code",
   "execution_count": 20,
   "metadata": {},
   "outputs": [
    {
     "data": {
      "text/plain": [
       "<matplotlib.image.AxesImage at 0x225ad3378b0>"
      ]
     },
     "execution_count": 20,
     "metadata": {},
     "output_type": "execute_result"
    },
    {
     "data": {
      "image/png": "[encoded data removed]",
      "text/plain": [
       "<Figure size 640x480 with 1 Axes>"
      ]
     },
     "metadata": {},
     "output_type": "display_data"
    }
   ],
   "source": [
    "\n",
    "plt.imshow(create_img(imgheight=400,imgwidth=400,color=0))"
   ]
  }
 ],
 "metadata": {
  "kernelspec": {
   "display_name": "Python 3",
   "language": "python",
   "name": "python3"
  },
  "language_info": {
   "codemirror_mode": {
    "name": "ipython",
    "version": 3
   },
   "file_extension": ".py",
   "mimetype": "text/x-python",
   "name": "python",
   "nbconvert_exporter": "python",
   "pygments_lexer": "ipython3",
   "version": "3.10.0"
  }
 },
 "nbformat": 4,
 "nbformat_minor": 2
}
