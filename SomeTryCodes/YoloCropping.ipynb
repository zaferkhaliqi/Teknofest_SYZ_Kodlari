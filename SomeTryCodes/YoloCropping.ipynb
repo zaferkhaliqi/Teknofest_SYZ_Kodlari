{
 "cells": [
  {
   "cell_type": "code",
   "execution_count": null,
   "metadata": {},
   "outputs": [],
   "source": [
    "print('hello')"
   ]
  },
  {
   "cell_type": "code",
   "execution_count": null,
   "metadata": {},
   "outputs": [],
   "source": [
    "import cv2\n",
    "import pandas as pd\n",
    "import matplotlib.pyplot as plt\n",
    "import os\n",
    "from tqdm import tqdm"
   ]
  },
  {
   "cell_type": "code",
   "execution_count": null,
   "metadata": {},
   "outputs": [],
   "source": [
    "https://youtu.be/ZzC3SJJifMg"
   ]
  },
  {
   "cell_type": "markdown",
   "metadata": {},
   "source": [
    "https://youtu.be/4eIBisqx9_g"
   ]
  },
  {
   "cell_type": "code",
   "execution_count": null,
   "metadata": {},
   "outputs": [],
   "source": [
    "import cv2\n",
    "label_path = \"C:/Users/zafer/OneDrive/Desktop/Brain Tumor labeled dataset/labels/Tr-gl_0028.txt\"\n",
    "image_path = \"C:/Users/zafer/OneDrive/Desktop/Brain Tumor labeled dataset/images/Tr-gl_0028.jpg\"\n",
    "image = cv2.imread(image_path)\n",
    "data = pd.read_csv(label_path)\n",
    "contors =data.columns[0].split(' ')\n",
    "\n",
    "\n",
    "\n",
    "# Load the label file (assuming it's in YOLO format)\n",
    "class_id, x_center, y_center, width, height = float(contors[0]),float(contors[1]),float(contors[2]),float(contors[3]),float(contors[4])\n",
    "\n",
    "x1 = int((x_center - width / 2) * image.shape[1])\n",
    "y1 = int((y_center - height / 2) * image.shape[0])\n",
    "x2 = int((x_center + width / 2) * image.shape[1])\n",
    "y2 = int((y_center + height / 2) * image.shape[0])\n",
    "\n",
    "# Draw the bounding box on the image\n",
    "recimg = image.copy()\n",
    "cv2.rectangle(recimg, (x1, y1), (x2, y2), (0, 255, 0), 2)\n",
    "print(contors)\n",
    "\n",
    "plt.imshow(recimg)"
   ]
  },
  {
   "cell_type": "code",
   "execution_count": null,
   "metadata": {},
   "outputs": [],
   "source": [
    "imagefolder = r'C:\\Users\\zafer\\OneDrive\\Desktop\\Brain Tumor labeled dataset\\images'\n",
    "labelfolder = r'C:\\Users\\zafer\\OneDrive\\Desktop\\Brain Tumor labeled dataset\\labels'\n",
    "\n",
    "from tqdm import tqdm\n",
    "def show_the_bounding_box(imagefolder,labelfolder):\n",
    "    image_files = os.listdir(imagefolder)\n",
    "    label_files = os.listdir(labelfolder)\n",
    "    for i in tqdm(range(len(image_files))):\n",
    "        import cv2\n",
    "        try:\n",
    "            label_path = os.path.join(labelfolder,label_files[i])\n",
    "            image_path = os.path.join(imagefolder,image_files[i])\n",
    "            image = cv2.imread(image_path)\n",
    "            data = pd.read_csv(label_path)\n",
    "            contors =data.columns[0].split(' ')\n",
    "\n",
    "\n",
    "\n",
    "            # Load the label file (assuming it's in YOLO format)\n",
    "            class_id, x_center, y_center, width, height = float(contors[0]),float(contors[1]),float(contors[2]),float(contors[3]),float(contors[4])\n",
    "            img_height = image.shape[0]\n",
    "            img_width = image.shape[1]\n",
    "            x1 = int((x_center - width / 2) * img_width)\n",
    "            y1 = int((y_center - height / 2) * img_height)\n",
    "            x2 = int((x_center + width / 2) * img_width)\n",
    "            y2 = int((y_center + height / 2) * img_height)\n",
    "\n",
    "            # Draw the bounding box on the image\n",
    "            recimg = image.copy()\n",
    "            cv2.rectangle(recimg, (x1, y1), (x2, y2), (0, 255, 0), 2)\n",
    "            #print(contors)\n",
    "            cv2.imshow('img',recimg)\n",
    "            # plt.imshow(recimg)\n",
    "            # plt.show()\n",
    "            key = cv2.waitKey(500)\n",
    "            if key ==ord('q'):\n",
    "                cv2.destroyAllWindows()\n",
    "                break\n",
    "            elif key ==ord('g'):\n",
    "                cv2.waitKey(0)\n",
    "            elif key ==ord ('c'):\n",
    "                cv2.waitKey(500)\n",
    "        except:\n",
    "            print('anerror in this folders')\n",
    "            print(image_path)\n",
    "            print(label_path)\n",
    "    cv2.destroyAllWindows()\n"
   ]
  },
  {
   "cell_type": "code",
   "execution_count": null,
   "metadata": {},
   "outputs": [],
   "source": [
    "def crop_img(img_path):\n",
    "    img = cv2.imread(img_path)\n",
    "    gray_img = cv2.cvtColor(img,cv2.COLOR_BGR2GRAY)\n",
    "    hrch, binary_image = cv2.threshold(gray_img, 10, 255, cv2.THRESH_BINARY)\n",
    "    contours,hrch = cv2.findContours(binary_image, cv2.RETR_TREE, cv2.CHAIN_APPROX_SIMPLE)\n",
    "    largest_contour = max(contours, key=cv2.contourArea)\n",
    "    x, y, w, h = cv2.boundingRect(largest_contour)\n",
    "    cropped_img = img[y:y+h, x:x+w]\n",
    "    resized = cv2.resize(cropped_img, (512, 512))\n",
    "    return resized\n"
   ]
  }
 ],
 "metadata": {
  "kernelspec": {
   "display_name": "Python 3",
   "language": "python",
   "name": "python3"
  },
  "language_info": {
   "name": "python",
   "version": "3.10.0"
  }
 },
 "nbformat": 4,
 "nbformat_minor": 2
}
